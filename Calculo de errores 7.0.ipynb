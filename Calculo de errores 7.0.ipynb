{
 "cells": [
  {
   "cell_type": "code",
   "execution_count": 3,
   "metadata": {
    "scrolled": false
   },
   "outputs": [],
   "source": [
    "import sympy as sp\n",
    "import numpy as np\n",
    "sp.init_printing()\n",
    "\n",
    "#parece funcionar todo ok, falta probar\n",
    "#Estaría bueno agregar:\n",
    "#que devuelva la expresión simbólica (ver al final)\n",
    "#que diga qué término aporta más al error"
   ]
  },
  {
   "cell_type": "code",
   "execution_count": 4,
   "metadata": {},
   "outputs": [],
   "source": [
    "def Error(variables,errores,ec,vals):\n",
    "    #si quero que un error valga siempre lo mismo:\n",
    "    lenE = np.empty(shape=(0,0))\n",
    "    Nerrores = errores\n",
    "    for i in range(0,len(Nerrores)-1):\n",
    "        lenE = np.append(lenE,len(Nerrores[i]))\n",
    "        maxlen = np.argmax(lenE)\n",
    "    for k in range(0,len(Nerrores)-1):\n",
    "        if len(Nerrores[k])==1:\n",
    "            ek = Nerrores[maxlen]*0+Nerrores[k]\n",
    "            Nerrores[k]= ek\n",
    "    #transformo las letras en variables\n",
    "    vars = np.empty(shape=(0,0))\n",
    "    for x in variables:\n",
    "        globals()['%s' % x] = sp.symbols(x)\n",
    "        vars = np.append(vars,globals()['%s' % x])\n",
    "    #propago\n",
    "    vectder = np.empty(shape=(0,0))\n",
    "    for i in range(0,len(vars)-1):                      \n",
    "        vectder = np.append(vectder,sp.diff(ec,vars[i])*Nerrores[i])          \n",
    "    err = sp.sqrt(np.sum(vectder**2))\n",
    "    #evalúo\n",
    "    for j in range(0,np.shape(vals)[1]):\n",
    "        np_err = sp.lambdify(vars, err, 'numpy')    \n",
    "        ev = np_err(*vals)    \n",
    "    return(ev)\n"
   ]
  },
  {
   "cell_type": "code",
   "execution_count": 8,
   "metadata": {},
   "outputs": [
    {
     "data": {
      "text/plain": [
       "array([208.31207262, 260.39009078, 208.31207262, 182.27306354,\n",
       "       187.48086536])"
      ]
     },
     "execution_count": 8,
     "metadata": {},
     "output_type": "execute_result"
    }
   ],
   "source": [
    "Vf = np.array([1,2,3,4,5])\n",
    "nf = np.array([1,1,1,1,1])\n",
    "Rf = np.array([0.082,0.082,0.082,0.082,0.082])\n",
    "Tf = np.array([10,25,30,35,45])\n",
    "\n",
    "errV = np.array([0])\n",
    "errn = np.array([1,1,6,4,205])\n",
    "errR = np.array([1,3,2,4,11])\n",
    "errT = np.array([1,5,0,4,1])\n",
    "\n",
    "\n",
    "\n",
    "#Digo cuales son los caracteres que aparecen en la ecuación\n",
    "variables = np.array(['V','n','R','T'])        \n",
    "#Declaro cuanto es el error en cada magnitud\n",
    "errores = np.array([errV,errn,errR,errT])\n",
    "#Escribo la ecuación que quiero propagar\n",
    "ec='n*R*T/V'\n",
    "#Escribo en que valores quiero evaluar la función\n",
    "vals = np.array([Vf,nf,Rf,Tf])\n",
    "\n",
    "Error(variables,errores,ec,vals)\n"
   ]
  },
  {
   "cell_type": "code",
   "execution_count": null,
   "metadata": {},
   "outputs": [],
   "source": [
    "#No funciona pero por acá va como tener la expresión simbólica si se quiere\n",
    "#Dx = sp.Symbol(r'(\\Delta\\,x)')\n",
    "#Dx\n",
    "\n",
    "ec = 'n*R*T/V'\n",
    "letras = ['n','R','T','V']\n",
    "errores = np.array([1,2,3,4])\n",
    "\n",
    "Vf = np.array([1,2,3,4,5])\n",
    "nf = np.array([1,1,1,1,1])\n",
    "Rf = np.array([0.082,0.082,0.082,0.082,0.082])\n",
    "Tf = np.array([10,25,30,35,45])\n",
    "vals = np.array([Vf,nf,Rf,Tf])\n",
    "\n",
    "\n",
    "\n",
    "\n",
    "vars = np.empty(shape=(0,0))\n",
    "vectder = np.empty(shape=(0,0))\n",
    "for i in range(0,len(letras)):\n",
    "    vectder = np.append(vectder,sp.diff(ec,letras[i])*Dx)\n",
    "prop = sp.sqrt(sum(vectder**2))\n",
    "\n",
    "for x in letras:\n",
    "        globals()['%s' % x] = sp.symbols(x)\n",
    "        vars = np.append(vars,globals()['%s' % x])\n",
    "        \n",
    "for j in range(0,np.shape(vals)[1]):\n",
    "        np_err = sp.lambdify(vars, prop, 'numpy')    \n",
    "        ev = np_err(*vals)  \n",
    "\n"
   ]
  }
 ],
 "metadata": {
  "kernelspec": {
   "display_name": "Python 3",
   "language": "python",
   "name": "python3"
  },
  "language_info": {
   "codemirror_mode": {
    "name": "ipython",
    "version": 3
   },
   "file_extension": ".py",
   "mimetype": "text/x-python",
   "name": "python",
   "nbconvert_exporter": "python",
   "pygments_lexer": "ipython3",
   "version": "3.7.3"
  }
 },
 "nbformat": 4,
 "nbformat_minor": 2
}
