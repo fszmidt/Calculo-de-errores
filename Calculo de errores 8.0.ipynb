{
 "cells": [
  {
   "cell_type": "code",
   "execution_count": 1,
   "metadata": {
    "scrolled": false
   },
   "outputs": [],
   "source": [
    "import sympy as sp\n",
    "import numpy as np\n",
    "sp.init_printing()\n",
    "\n"
   ]
  },
  {
   "cell_type": "code",
   "execution_count": 2,
   "metadata": {},
   "outputs": [],
   "source": [
    "def Error(variables,ec,vals,errores):\n",
    "        \n",
    "    var = np.empty(shape=(0,0))\n",
    "    for x in variables:\n",
    "        locals()['%s' % x] = sp.symbols(x)       \n",
    "        var = np.append(var,locals()['%s' % x])\n",
    "\n",
    "    evars = np.empty(shape=(0,0))\n",
    "    errs = np.empty(shape=(0,0))\n",
    "    for i in variables:\n",
    "        evars = np.append(evars,'D'+ i)\n",
    "    for x in evars:\n",
    "        locals()['%s' % x] = sp.symbols(x)\n",
    "        errs = np.append(errs,locals()['%s' % x])\n",
    "        \n",
    "    vectder = np.empty(shape=(0,0))\n",
    "    for i in range(0,len(var)):                      \n",
    "        vectder = np.append(vectder,sp.diff(ec,var[i])*errs[i])\n",
    "    err = sp.sqrt(np.sum(vectder**2))\n",
    "    \n",
    "    \n",
    "    \n",
    "    Tvars = np.append(var,errs)\n",
    "    evals = np.empty(shape=(0,0))\n",
    "    if np.shape(np.shape(vals))[0]==1:\n",
    "        evals = np.concatenate((vals,errores),0)\n",
    "        np_err = sp.lambdify(Tvars,err, 'numpy')\n",
    "        ev = np_err(*evals)\n",
    "    else:\n",
    "        evals = np.concatenate((np.transpose(vals),np.transpose(errores)),1)                                 \n",
    "        ev = np.empty(shape=(0,0))\n",
    "        for j in range(0,np.shape(evals)[0]):\n",
    "            np_err = sp.lambdify(Tvars,err, 'numpy')\n",
    "            ev = np.append(ev,np_err(*evals[j,:]))\n",
    "\n",
    "       \n",
    "    return(ev)\n",
    "\n",
    "\n",
    "    \n"
   ]
  }
 ],
 "metadata": {
  "kernelspec": {
   "display_name": "Python 3",
   "language": "python",
   "name": "python3"
  },
  "language_info": {
   "codemirror_mode": {
    "name": "ipython",
    "version": 3
   },
   "file_extension": ".py",
   "mimetype": "text/x-python",
   "name": "python",
   "nbconvert_exporter": "python",
   "pygments_lexer": "ipython3",
   "version": "3.7.3"
  }
 },
 "nbformat": 4,
 "nbformat_minor": 2
}
